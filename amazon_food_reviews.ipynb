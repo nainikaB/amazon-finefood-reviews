{
 "cells": [
  {
   "cell_type": "code",
   "execution_count": 479,
   "id": "794f6bae",
   "metadata": {},
   "outputs": [],
   "source": [
    "import pandas as pd\n",
    "import numpy as np\n",
    "from sklearn.model_selection import train_test_split\n",
    "import seaborn as sns\n",
    "import matplotlib.pyplot as plt\n",
    "from sklearn.feature_extraction.text import TfidfVectorizer\n",
    "from sklearn.preprocessing import LabelEncoder\n",
    "from sklearn.linear_model import LogisticRegression\n",
    "from sklearn.metrics import accuracy_score"
   ]
  },
  {
   "cell_type": "code",
   "execution_count": 480,
   "id": "f41e11bc",
   "metadata": {},
   "outputs": [
    {
     "data": {
      "text/html": [
       "<div>\n",
       "<style scoped>\n",
       "    .dataframe tbody tr th:only-of-type {\n",
       "        vertical-align: middle;\n",
       "    }\n",
       "\n",
       "    .dataframe tbody tr th {\n",
       "        vertical-align: top;\n",
       "    }\n",
       "\n",
       "    .dataframe thead th {\n",
       "        text-align: right;\n",
       "    }\n",
       "</style>\n",
       "<table border=\"1\" class=\"dataframe\">\n",
       "  <thead>\n",
       "    <tr style=\"text-align: right;\">\n",
       "      <th></th>\n",
       "      <th>Id</th>\n",
       "      <th>ProductId</th>\n",
       "      <th>UserId</th>\n",
       "      <th>ProfileName</th>\n",
       "      <th>HelpfulnessNumerator</th>\n",
       "      <th>HelpfulnessDenominator</th>\n",
       "      <th>Score</th>\n",
       "      <th>Time</th>\n",
       "      <th>Summary</th>\n",
       "      <th>Text</th>\n",
       "    </tr>\n",
       "  </thead>\n",
       "  <tbody>\n",
       "    <tr>\n",
       "      <th>0</th>\n",
       "      <td>1</td>\n",
       "      <td>B001E4KFG0</td>\n",
       "      <td>A3SGXH7AUHU8GW</td>\n",
       "      <td>delmartian</td>\n",
       "      <td>1</td>\n",
       "      <td>1</td>\n",
       "      <td>5</td>\n",
       "      <td>1303862400</td>\n",
       "      <td>Good Quality Dog Food</td>\n",
       "      <td>I have bought several of the Vitality canned d...</td>\n",
       "    </tr>\n",
       "    <tr>\n",
       "      <th>1</th>\n",
       "      <td>2</td>\n",
       "      <td>B00813GRG4</td>\n",
       "      <td>A1D87F6ZCVE5NK</td>\n",
       "      <td>dll pa</td>\n",
       "      <td>0</td>\n",
       "      <td>0</td>\n",
       "      <td>1</td>\n",
       "      <td>1346976000</td>\n",
       "      <td>Not as Advertised</td>\n",
       "      <td>Product arrived labeled as Jumbo Salted Peanut...</td>\n",
       "    </tr>\n",
       "    <tr>\n",
       "      <th>2</th>\n",
       "      <td>3</td>\n",
       "      <td>B000LQOCH0</td>\n",
       "      <td>ABXLMWJIXXAIN</td>\n",
       "      <td>Natalia Corres \"Natalia Corres\"</td>\n",
       "      <td>1</td>\n",
       "      <td>1</td>\n",
       "      <td>4</td>\n",
       "      <td>1219017600</td>\n",
       "      <td>\"Delight\" says it all</td>\n",
       "      <td>This is a confection that has been around a fe...</td>\n",
       "    </tr>\n",
       "    <tr>\n",
       "      <th>3</th>\n",
       "      <td>4</td>\n",
       "      <td>B000UA0QIQ</td>\n",
       "      <td>A395BORC6FGVXV</td>\n",
       "      <td>Karl</td>\n",
       "      <td>3</td>\n",
       "      <td>3</td>\n",
       "      <td>2</td>\n",
       "      <td>1307923200</td>\n",
       "      <td>Cough Medicine</td>\n",
       "      <td>If you are looking for the secret ingredient i...</td>\n",
       "    </tr>\n",
       "    <tr>\n",
       "      <th>4</th>\n",
       "      <td>5</td>\n",
       "      <td>B006K2ZZ7K</td>\n",
       "      <td>A1UQRSCLF8GW1T</td>\n",
       "      <td>Michael D. Bigham \"M. Wassir\"</td>\n",
       "      <td>0</td>\n",
       "      <td>0</td>\n",
       "      <td>5</td>\n",
       "      <td>1350777600</td>\n",
       "      <td>Great taffy</td>\n",
       "      <td>Great taffy at a great price.  There was a wid...</td>\n",
       "    </tr>\n",
       "    <tr>\n",
       "      <th>5</th>\n",
       "      <td>6</td>\n",
       "      <td>B006K2ZZ7K</td>\n",
       "      <td>ADT0SRK1MGOEU</td>\n",
       "      <td>Twoapennything</td>\n",
       "      <td>0</td>\n",
       "      <td>0</td>\n",
       "      <td>4</td>\n",
       "      <td>1342051200</td>\n",
       "      <td>Nice Taffy</td>\n",
       "      <td>I got a wild hair for taffy and ordered this f...</td>\n",
       "    </tr>\n",
       "    <tr>\n",
       "      <th>6</th>\n",
       "      <td>7</td>\n",
       "      <td>B006K2ZZ7K</td>\n",
       "      <td>A1SP2KVKFXXRU1</td>\n",
       "      <td>David C. Sullivan</td>\n",
       "      <td>0</td>\n",
       "      <td>0</td>\n",
       "      <td>5</td>\n",
       "      <td>1340150400</td>\n",
       "      <td>Great!  Just as good as the expensive brands!</td>\n",
       "      <td>This saltwater taffy had great flavors and was...</td>\n",
       "    </tr>\n",
       "    <tr>\n",
       "      <th>7</th>\n",
       "      <td>8</td>\n",
       "      <td>B006K2ZZ7K</td>\n",
       "      <td>A3JRGQVEQN31IQ</td>\n",
       "      <td>Pamela G. Williams</td>\n",
       "      <td>0</td>\n",
       "      <td>0</td>\n",
       "      <td>5</td>\n",
       "      <td>1336003200</td>\n",
       "      <td>Wonderful, tasty taffy</td>\n",
       "      <td>This taffy is so good.  It is very soft and ch...</td>\n",
       "    </tr>\n",
       "    <tr>\n",
       "      <th>8</th>\n",
       "      <td>9</td>\n",
       "      <td>B000E7L2R4</td>\n",
       "      <td>A1MZYO9TZK0BBI</td>\n",
       "      <td>R. James</td>\n",
       "      <td>1</td>\n",
       "      <td>1</td>\n",
       "      <td>5</td>\n",
       "      <td>1322006400</td>\n",
       "      <td>Yay Barley</td>\n",
       "      <td>Right now I'm mostly just sprouting this so my...</td>\n",
       "    </tr>\n",
       "    <tr>\n",
       "      <th>9</th>\n",
       "      <td>10</td>\n",
       "      <td>B00171APVA</td>\n",
       "      <td>A21BT40VZCCYT4</td>\n",
       "      <td>Carol A. Reed</td>\n",
       "      <td>0</td>\n",
       "      <td>0</td>\n",
       "      <td>5</td>\n",
       "      <td>1351209600</td>\n",
       "      <td>Healthy Dog Food</td>\n",
       "      <td>This is a very healthy dog food. Good for thei...</td>\n",
       "    </tr>\n",
       "  </tbody>\n",
       "</table>\n",
       "</div>"
      ],
      "text/plain": [
       "   Id   ProductId          UserId                      ProfileName  \\\n",
       "0   1  B001E4KFG0  A3SGXH7AUHU8GW                       delmartian   \n",
       "1   2  B00813GRG4  A1D87F6ZCVE5NK                           dll pa   \n",
       "2   3  B000LQOCH0   ABXLMWJIXXAIN  Natalia Corres \"Natalia Corres\"   \n",
       "3   4  B000UA0QIQ  A395BORC6FGVXV                             Karl   \n",
       "4   5  B006K2ZZ7K  A1UQRSCLF8GW1T    Michael D. Bigham \"M. Wassir\"   \n",
       "5   6  B006K2ZZ7K   ADT0SRK1MGOEU                   Twoapennything   \n",
       "6   7  B006K2ZZ7K  A1SP2KVKFXXRU1                David C. Sullivan   \n",
       "7   8  B006K2ZZ7K  A3JRGQVEQN31IQ               Pamela G. Williams   \n",
       "8   9  B000E7L2R4  A1MZYO9TZK0BBI                         R. James   \n",
       "9  10  B00171APVA  A21BT40VZCCYT4                    Carol A. Reed   \n",
       "\n",
       "   HelpfulnessNumerator  HelpfulnessDenominator  Score        Time  \\\n",
       "0                     1                       1      5  1303862400   \n",
       "1                     0                       0      1  1346976000   \n",
       "2                     1                       1      4  1219017600   \n",
       "3                     3                       3      2  1307923200   \n",
       "4                     0                       0      5  1350777600   \n",
       "5                     0                       0      4  1342051200   \n",
       "6                     0                       0      5  1340150400   \n",
       "7                     0                       0      5  1336003200   \n",
       "8                     1                       1      5  1322006400   \n",
       "9                     0                       0      5  1351209600   \n",
       "\n",
       "                                         Summary  \\\n",
       "0                          Good Quality Dog Food   \n",
       "1                              Not as Advertised   \n",
       "2                          \"Delight\" says it all   \n",
       "3                                 Cough Medicine   \n",
       "4                                    Great taffy   \n",
       "5                                     Nice Taffy   \n",
       "6  Great!  Just as good as the expensive brands!   \n",
       "7                         Wonderful, tasty taffy   \n",
       "8                                     Yay Barley   \n",
       "9                               Healthy Dog Food   \n",
       "\n",
       "                                                Text  \n",
       "0  I have bought several of the Vitality canned d...  \n",
       "1  Product arrived labeled as Jumbo Salted Peanut...  \n",
       "2  This is a confection that has been around a fe...  \n",
       "3  If you are looking for the secret ingredient i...  \n",
       "4  Great taffy at a great price.  There was a wid...  \n",
       "5  I got a wild hair for taffy and ordered this f...  \n",
       "6  This saltwater taffy had great flavors and was...  \n",
       "7  This taffy is so good.  It is very soft and ch...  \n",
       "8  Right now I'm mostly just sprouting this so my...  \n",
       "9  This is a very healthy dog food. Good for thei...  "
      ]
     },
     "execution_count": 480,
     "metadata": {},
     "output_type": "execute_result"
    }
   ],
   "source": [
    "amazon_reviews = pd.read_csv('Reviews.csv')\n",
    "amazon_reviews.head(10)"
   ]
  },
  {
   "cell_type": "code",
   "execution_count": 481,
   "id": "0fed7e81",
   "metadata": {},
   "outputs": [
    {
     "name": "stdout",
     "output_type": "stream",
     "text": [
      "<class 'pandas.core.frame.DataFrame'>\n",
      "RangeIndex: 568454 entries, 0 to 568453\n",
      "Data columns (total 10 columns):\n",
      " #   Column                  Non-Null Count   Dtype \n",
      "---  ------                  --------------   ----- \n",
      " 0   Id                      568454 non-null  int64 \n",
      " 1   ProductId               568454 non-null  object\n",
      " 2   UserId                  568454 non-null  object\n",
      " 3   ProfileName             568438 non-null  object\n",
      " 4   HelpfulnessNumerator    568454 non-null  int64 \n",
      " 5   HelpfulnessDenominator  568454 non-null  int64 \n",
      " 6   Score                   568454 non-null  int64 \n",
      " 7   Time                    568454 non-null  int64 \n",
      " 8   Summary                 568427 non-null  object\n",
      " 9   Text                    568454 non-null  object\n",
      "dtypes: int64(5), object(5)\n",
      "memory usage: 43.4+ MB\n"
     ]
    }
   ],
   "source": [
    "amazon_reviews.info()"
   ]
  },
  {
   "cell_type": "code",
   "execution_count": 482,
   "id": "a91c5bd1",
   "metadata": {},
   "outputs": [],
   "source": [
    "amazon_reviews = amazon_reviews[[ 'Id','ProductId', 'UserId', 'ProfileName', 'HelpfulnessNumerator',  'HelpfulnessDenominator', 'Score', 'Summary', 'Text' ]]"
   ]
  },
  {
   "cell_type": "code",
   "execution_count": 483,
   "id": "f059c017",
   "metadata": {},
   "outputs": [
    {
     "name": "stdout",
     "output_type": "stream",
     "text": [
      "<class 'pandas.core.frame.DataFrame'>\n",
      "Int64Index: 568411 entries, 0 to 568453\n",
      "Data columns (total 9 columns):\n",
      " #   Column                  Non-Null Count   Dtype \n",
      "---  ------                  --------------   ----- \n",
      " 0   Id                      568411 non-null  int64 \n",
      " 1   ProductId               568411 non-null  object\n",
      " 2   UserId                  568411 non-null  object\n",
      " 3   ProfileName             568411 non-null  object\n",
      " 4   HelpfulnessNumerator    568411 non-null  int64 \n",
      " 5   HelpfulnessDenominator  568411 non-null  int64 \n",
      " 6   Score                   568411 non-null  int64 \n",
      " 7   Summary                 568411 non-null  object\n",
      " 8   Text                    568411 non-null  object\n",
      "dtypes: int64(4), object(5)\n",
      "memory usage: 43.4+ MB\n"
     ]
    }
   ],
   "source": [
    "amazon_reviews.dropna(inplace = True)\n",
    "amazon_reviews.info()"
   ]
  },
  {
   "cell_type": "code",
   "execution_count": 484,
   "id": "5d114655",
   "metadata": {},
   "outputs": [
    {
     "data": {
      "text/plain": [
       "(568411, 9)"
      ]
     },
     "execution_count": 484,
     "metadata": {},
     "output_type": "execute_result"
    }
   ],
   "source": [
    "amazon_reviews.shape"
   ]
  },
  {
   "cell_type": "code",
   "execution_count": 485,
   "id": "93e82f78",
   "metadata": {},
   "outputs": [
    {
     "data": {
      "text/plain": [
       "(393633, 9)"
      ]
     },
     "execution_count": 485,
     "metadata": {},
     "output_type": "execute_result"
    }
   ],
   "source": [
    "reviews_df=amazon_reviews.drop_duplicates(subset={\"UserId\",\"ProfileName\",\"Text\"}, keep='first', inplace=False)\n",
    "reviews_df.shape"
   ]
  },
  {
   "cell_type": "code",
   "execution_count": null,
   "id": "739e2ab0",
   "metadata": {},
   "outputs": [],
   "source": [
    "df.reset_index(drop=True,inplace=True)"
   ]
  },
  {
   "cell_type": "code",
   "execution_count": 486,
   "id": "60600639",
   "metadata": {},
   "outputs": [],
   "source": [
    "def partition(x):\n",
    "    if x < 3:\n",
    "        return 0\n",
    "    return 1\n",
    "\n",
    "finalScore = reviews_df['Score']"
   ]
  },
  {
   "cell_type": "code",
   "execution_count": 487,
   "id": "66084939",
   "metadata": {},
   "outputs": [
    {
     "name": "stderr",
     "output_type": "stream",
     "text": [
      "/Users/nainika/opt/anaconda3/lib/python3.8/site-packages/pandas/core/indexing.py:1597: SettingWithCopyWarning: \n",
      "A value is trying to be set on a copy of a slice from a DataFrame.\n",
      "Try using .loc[row_indexer,col_indexer] = value instead\n",
      "\n",
      "See the caveats in the documentation: https://pandas.pydata.org/pandas-docs/stable/user_guide/indexing.html#returning-a-view-versus-a-copy\n",
      "  self.obj[key] = value\n",
      "/Users/nainika/opt/anaconda3/lib/python3.8/site-packages/pandas/core/indexing.py:1676: SettingWithCopyWarning: \n",
      "A value is trying to be set on a copy of a slice from a DataFrame.\n",
      "Try using .loc[row_indexer,col_indexer] = value instead\n",
      "\n",
      "See the caveats in the documentation: https://pandas.pydata.org/pandas-docs/stable/user_guide/indexing.html#returning-a-view-versus-a-copy\n",
      "  self._setitem_single_column(ilocs[0], value, pi)\n"
     ]
    }
   ],
   "source": [
    "reviews_df.loc[:, 'target'] = reviews_df.Score.apply(partition)\n",
    "#reviews_df['Score'] = reviews_df['Score'].apply(partition)"
   ]
  },
  {
   "cell_type": "code",
   "execution_count": 488,
   "id": "3a3cc993",
   "metadata": {},
   "outputs": [
    {
     "name": "stderr",
     "output_type": "stream",
     "text": [
      "/Users/nainika/opt/anaconda3/lib/python3.8/site-packages/seaborn/_decorators.py:36: FutureWarning: Pass the following variable as a keyword arg: x. From version 0.12, the only valid positional argument will be `data`, and passing other arguments without an explicit keyword will result in an error or misinterpretation.\n",
      "  warnings.warn(\n"
     ]
    },
    {
     "data": {
      "image/png": "[encoded data removed]",
      "text/plain": [
       "<Figure size 432x288 with 1 Axes>"
      ]
     },
     "metadata": {
      "needs_background": "light"
     },
     "output_type": "display_data"
    }
   ],
   "source": [
    "\n",
    "sns.countplot(reviews_df['target'])\n",
    "plt.show()"
   ]
  },
  {
   "cell_type": "code",
   "execution_count": 489,
   "id": "c46cfdee",
   "metadata": {},
   "outputs": [
    {
     "name": "stderr",
     "output_type": "stream",
     "text": [
      "<ipython-input-489-6780a6141e42>:1: SettingWithCopyWarning: \n",
      "A value is trying to be set on a copy of a slice from a DataFrame.\n",
      "Try using .loc[row_indexer,col_indexer] = value instead\n",
      "\n",
      "See the caveats in the documentation: https://pandas.pydata.org/pandas-docs/stable/user_guide/indexing.html#returning-a-view-versus-a-copy\n",
      "  reviews_df['reviews'] = reviews_df['Text'] + \" \" + reviews_df['Summary']\n"
     ]
    }
   ],
   "source": [
    " reviews_df['reviews'] = reviews_df['Text'] + \" \" + reviews_df['Summary']"
   ]
  },
  {
   "cell_type": "code",
   "execution_count": 295,
   "id": "2515f5f3",
   "metadata": {},
   "outputs": [
    {
     "data": {
      "text/plain": [
       "\"I've suffered from recurrent bouts of acute sinusitis that have only become worse and worse over the years. Every time I get an infection, my right maxillary sinus swells up like a balloon. Sleeping at night on account of this condition is terribly difficult; I often have to resort to using Afrin to decongest my sinuses, which is effective but also very painful and not a realistic, long term solution because of rebound congestion. Now I already irrigate with a motorized system, often upwards of 8-10X daily when I'm sick, and drinking herbal tea has also become a pasttime to help cope with my sinus disease. That being said, I bought this tea out of sheer desperation. I'll try (and have tried) next to anything to give myself some relief while I wait for antibiotics to take effect. The only thing which I find works even close to as well as Afrin is to megadose on Psuedoephedrine (240 1-2 times per day), which is something that is also unsustainable. So, keep in mind that the severity of my sinus condition is drastic. What I found with this tea is that it seems to help, but I can't tell whether or not it works any better than domestic teas that tout similar claims (Yogi's Breathe Deep and Cold Buster, Celestial Sleepytime Sinus Soother, and other respiratory-aiding herbal formulations). I've brewed it double-strong to try and gain the greatest effect, and again, it seems to work modestly but nothing amazing. The taste is a little bitter, but I suppose that's a fairly reasonable indicator it has beneficial compounds in it. All in all, I am likely to stick with the less exotic teas that I can buy at the grocery store. As an aside, I find Celestial's Sweet and Spicy herbal mix to have probably the best mucus thinning effect out of all the teas I've tried, though it's not at all marketed as something for this purpose. If you read everything they put in it, though, it makes sense that it would help. Benefit hard to determine\""
      ]
     },
     "execution_count": 295,
     "metadata": {},
     "output_type": "execute_result"
    }
   ],
   "source": [
    "reviews_df['reviews'].values[4900]"
   ]
  },
  {
   "cell_type": "code",
   "execution_count": 490,
   "id": "74026b73",
   "metadata": {},
   "outputs": [
    {
     "data": {
      "text/plain": [
       "(393631, 11)"
      ]
     },
     "execution_count": 490,
     "metadata": {},
     "output_type": "execute_result"
    }
   ],
   "source": [
    "#it was observed that helfulness numerator is greater than helpfulness denominator \n",
    "reviews_df=reviews_df[reviews_df.HelpfulnessNumerator<=reviews_df.HelpfulnessDenominator]\n",
    "reviews_df.head()\n",
    "reviews_df.shape"
   ]
  },
  {
   "cell_type": "code",
   "execution_count": 491,
   "id": "de521285",
   "metadata": {},
   "outputs": [],
   "source": [
    "# Text Preprocessing\n",
    "import re"
   ]
  },
  {
   "cell_type": "code",
   "execution_count": 492,
   "id": "88984ca2",
   "metadata": {},
   "outputs": [],
   "source": [
    "def cleanhtml(review): #function to clean html tags in a sentence\n",
    "    htmlclean=re.compile('<.*?>')\n",
    "    clean=re.sub(htmlclean,'',review)\n",
    "    return clean\n",
    "reviews_df['reviews'] = reviews_df['reviews'].apply(cleanhtml)"
   ]
  },
  {
   "cell_type": "code",
   "execution_count": 493,
   "id": "24d88c52",
   "metadata": {},
   "outputs": [
    {
     "data": {
      "text/html": [
       "<div>\n",
       "<style scoped>\n",
       "    .dataframe tbody tr th:only-of-type {\n",
       "        vertical-align: middle;\n",
       "    }\n",
       "\n",
       "    .dataframe tbody tr th {\n",
       "        vertical-align: top;\n",
       "    }\n",
       "\n",
       "    .dataframe thead th {\n",
       "        text-align: right;\n",
       "    }\n",
       "</style>\n",
       "<table border=\"1\" class=\"dataframe\">\n",
       "  <thead>\n",
       "    <tr style=\"text-align: right;\">\n",
       "      <th></th>\n",
       "      <th>Id</th>\n",
       "      <th>ProductId</th>\n",
       "      <th>UserId</th>\n",
       "      <th>ProfileName</th>\n",
       "      <th>HelpfulnessNumerator</th>\n",
       "      <th>HelpfulnessDenominator</th>\n",
       "      <th>Score</th>\n",
       "      <th>Summary</th>\n",
       "      <th>Text</th>\n",
       "      <th>target</th>\n",
       "      <th>reviews</th>\n",
       "    </tr>\n",
       "  </thead>\n",
       "  <tbody>\n",
       "    <tr>\n",
       "      <th>0</th>\n",
       "      <td>1</td>\n",
       "      <td>B001E4KFG0</td>\n",
       "      <td>A3SGXH7AUHU8GW</td>\n",
       "      <td>delmartian</td>\n",
       "      <td>1</td>\n",
       "      <td>1</td>\n",
       "      <td>5</td>\n",
       "      <td>Good Quality Dog Food</td>\n",
       "      <td>I have bought several of the Vitality canned d...</td>\n",
       "      <td>1</td>\n",
       "      <td>I have bought several of the Vitality canned d...</td>\n",
       "    </tr>\n",
       "    <tr>\n",
       "      <th>1</th>\n",
       "      <td>2</td>\n",
       "      <td>B00813GRG4</td>\n",
       "      <td>A1D87F6ZCVE5NK</td>\n",
       "      <td>dll pa</td>\n",
       "      <td>0</td>\n",
       "      <td>0</td>\n",
       "      <td>1</td>\n",
       "      <td>Not as Advertised</td>\n",
       "      <td>Product arrived labeled as Jumbo Salted Peanut...</td>\n",
       "      <td>0</td>\n",
       "      <td>Product arrived labeled as Jumbo Salted Peanut...</td>\n",
       "    </tr>\n",
       "    <tr>\n",
       "      <th>2</th>\n",
       "      <td>3</td>\n",
       "      <td>B000LQOCH0</td>\n",
       "      <td>ABXLMWJIXXAIN</td>\n",
       "      <td>Natalia Corres \"Natalia Corres\"</td>\n",
       "      <td>1</td>\n",
       "      <td>1</td>\n",
       "      <td>4</td>\n",
       "      <td>\"Delight\" says it all</td>\n",
       "      <td>This is a confection that has been around a fe...</td>\n",
       "      <td>1</td>\n",
       "      <td>This is a confection that has been around a fe...</td>\n",
       "    </tr>\n",
       "    <tr>\n",
       "      <th>3</th>\n",
       "      <td>4</td>\n",
       "      <td>B000UA0QIQ</td>\n",
       "      <td>A395BORC6FGVXV</td>\n",
       "      <td>Karl</td>\n",
       "      <td>3</td>\n",
       "      <td>3</td>\n",
       "      <td>2</td>\n",
       "      <td>Cough Medicine</td>\n",
       "      <td>If you are looking for the secret ingredient i...</td>\n",
       "      <td>0</td>\n",
       "      <td>If you are looking for the secret ingredient i...</td>\n",
       "    </tr>\n",
       "    <tr>\n",
       "      <th>4</th>\n",
       "      <td>5</td>\n",
       "      <td>B006K2ZZ7K</td>\n",
       "      <td>A1UQRSCLF8GW1T</td>\n",
       "      <td>Michael D. Bigham \"M. Wassir\"</td>\n",
       "      <td>0</td>\n",
       "      <td>0</td>\n",
       "      <td>5</td>\n",
       "      <td>Great taffy</td>\n",
       "      <td>Great taffy at a great price.  There was a wid...</td>\n",
       "      <td>1</td>\n",
       "      <td>Great taffy at a great price.  There was a wid...</td>\n",
       "    </tr>\n",
       "    <tr>\n",
       "      <th>...</th>\n",
       "      <td>...</td>\n",
       "      <td>...</td>\n",
       "      <td>...</td>\n",
       "      <td>...</td>\n",
       "      <td>...</td>\n",
       "      <td>...</td>\n",
       "      <td>...</td>\n",
       "      <td>...</td>\n",
       "      <td>...</td>\n",
       "      <td>...</td>\n",
       "      <td>...</td>\n",
       "    </tr>\n",
       "    <tr>\n",
       "      <th>568449</th>\n",
       "      <td>568450</td>\n",
       "      <td>B001EO7N10</td>\n",
       "      <td>A28KG5XORO54AY</td>\n",
       "      <td>Lettie D. Carter</td>\n",
       "      <td>0</td>\n",
       "      <td>0</td>\n",
       "      <td>5</td>\n",
       "      <td>Will not do without</td>\n",
       "      <td>Great for sesame chicken..this is a good if no...</td>\n",
       "      <td>1</td>\n",
       "      <td>Great for sesame chicken..this is a good if no...</td>\n",
       "    </tr>\n",
       "    <tr>\n",
       "      <th>568450</th>\n",
       "      <td>568451</td>\n",
       "      <td>B003S1WTCU</td>\n",
       "      <td>A3I8AFVPEE8KI5</td>\n",
       "      <td>R. Sawyer</td>\n",
       "      <td>0</td>\n",
       "      <td>0</td>\n",
       "      <td>2</td>\n",
       "      <td>disappointed</td>\n",
       "      <td>I'm disappointed with the flavor. The chocolat...</td>\n",
       "      <td>0</td>\n",
       "      <td>I'm disappointed with the flavor. The chocolat...</td>\n",
       "    </tr>\n",
       "    <tr>\n",
       "      <th>568451</th>\n",
       "      <td>568452</td>\n",
       "      <td>B004I613EE</td>\n",
       "      <td>A121AA1GQV751Z</td>\n",
       "      <td>pksd \"pk_007\"</td>\n",
       "      <td>2</td>\n",
       "      <td>2</td>\n",
       "      <td>5</td>\n",
       "      <td>Perfect for our maltipoo</td>\n",
       "      <td>These stars are small, so you can give 10-15 o...</td>\n",
       "      <td>1</td>\n",
       "      <td>These stars are small, so you can give 10-15 o...</td>\n",
       "    </tr>\n",
       "    <tr>\n",
       "      <th>568452</th>\n",
       "      <td>568453</td>\n",
       "      <td>B004I613EE</td>\n",
       "      <td>A3IBEVCTXKNOH</td>\n",
       "      <td>Kathy A. Welch \"katwel\"</td>\n",
       "      <td>1</td>\n",
       "      <td>1</td>\n",
       "      <td>5</td>\n",
       "      <td>Favorite Training and reward treat</td>\n",
       "      <td>These are the BEST treats for training and rew...</td>\n",
       "      <td>1</td>\n",
       "      <td>These are the BEST treats for training and rew...</td>\n",
       "    </tr>\n",
       "    <tr>\n",
       "      <th>568453</th>\n",
       "      <td>568454</td>\n",
       "      <td>B001LR2CU2</td>\n",
       "      <td>A3LGQPJCZVL9UC</td>\n",
       "      <td>srfell17</td>\n",
       "      <td>0</td>\n",
       "      <td>0</td>\n",
       "      <td>5</td>\n",
       "      <td>Great Honey</td>\n",
       "      <td>I am very satisfied ,product is as advertised,...</td>\n",
       "      <td>1</td>\n",
       "      <td>I am very satisfied ,product is as advertised,...</td>\n",
       "    </tr>\n",
       "  </tbody>\n",
       "</table>\n",
       "<p>393631 rows × 11 columns</p>\n",
       "</div>"
      ],
      "text/plain": [
       "            Id   ProductId          UserId                      ProfileName  \\\n",
       "0            1  B001E4KFG0  A3SGXH7AUHU8GW                       delmartian   \n",
       "1            2  B00813GRG4  A1D87F6ZCVE5NK                           dll pa   \n",
       "2            3  B000LQOCH0   ABXLMWJIXXAIN  Natalia Corres \"Natalia Corres\"   \n",
       "3            4  B000UA0QIQ  A395BORC6FGVXV                             Karl   \n",
       "4            5  B006K2ZZ7K  A1UQRSCLF8GW1T    Michael D. Bigham \"M. Wassir\"   \n",
       "...        ...         ...             ...                              ...   \n",
       "568449  568450  B001EO7N10  A28KG5XORO54AY                 Lettie D. Carter   \n",
       "568450  568451  B003S1WTCU  A3I8AFVPEE8KI5                        R. Sawyer   \n",
       "568451  568452  B004I613EE  A121AA1GQV751Z                    pksd \"pk_007\"   \n",
       "568452  568453  B004I613EE   A3IBEVCTXKNOH          Kathy A. Welch \"katwel\"   \n",
       "568453  568454  B001LR2CU2  A3LGQPJCZVL9UC                         srfell17   \n",
       "\n",
       "        HelpfulnessNumerator  HelpfulnessDenominator  Score  \\\n",
       "0                          1                       1      5   \n",
       "1                          0                       0      1   \n",
       "2                          1                       1      4   \n",
       "3                          3                       3      2   \n",
       "4                          0                       0      5   \n",
       "...                      ...                     ...    ...   \n",
       "568449                     0                       0      5   \n",
       "568450                     0                       0      2   \n",
       "568451                     2                       2      5   \n",
       "568452                     1                       1      5   \n",
       "568453                     0                       0      5   \n",
       "\n",
       "                                   Summary  \\\n",
       "0                    Good Quality Dog Food   \n",
       "1                        Not as Advertised   \n",
       "2                    \"Delight\" says it all   \n",
       "3                           Cough Medicine   \n",
       "4                              Great taffy   \n",
       "...                                    ...   \n",
       "568449                 Will not do without   \n",
       "568450                        disappointed   \n",
       "568451            Perfect for our maltipoo   \n",
       "568452  Favorite Training and reward treat   \n",
       "568453                         Great Honey   \n",
       "\n",
       "                                                     Text  target  \\\n",
       "0       I have bought several of the Vitality canned d...       1   \n",
       "1       Product arrived labeled as Jumbo Salted Peanut...       0   \n",
       "2       This is a confection that has been around a fe...       1   \n",
       "3       If you are looking for the secret ingredient i...       0   \n",
       "4       Great taffy at a great price.  There was a wid...       1   \n",
       "...                                                   ...     ...   \n",
       "568449  Great for sesame chicken..this is a good if no...       1   \n",
       "568450  I'm disappointed with the flavor. The chocolat...       0   \n",
       "568451  These stars are small, so you can give 10-15 o...       1   \n",
       "568452  These are the BEST treats for training and rew...       1   \n",
       "568453  I am very satisfied ,product is as advertised,...       1   \n",
       "\n",
       "                                                  reviews  \n",
       "0       I have bought several of the Vitality canned d...  \n",
       "1       Product arrived labeled as Jumbo Salted Peanut...  \n",
       "2       This is a confection that has been around a fe...  \n",
       "3       If you are looking for the secret ingredient i...  \n",
       "4       Great taffy at a great price.  There was a wid...  \n",
       "...                                                   ...  \n",
       "568449  Great for sesame chicken..this is a good if no...  \n",
       "568450  I'm disappointed with the flavor. The chocolat...  \n",
       "568451  These stars are small, so you can give 10-15 o...  \n",
       "568452  These are the BEST treats for training and rew...  \n",
       "568453  I am very satisfied ,product is as advertised,...  \n",
       "\n",
       "[393631 rows x 11 columns]"
      ]
     },
     "execution_count": 493,
     "metadata": {},
     "output_type": "execute_result"
    }
   ],
   "source": [
    "reviews_df"
   ]
  },
  {
   "cell_type": "code",
   "execution_count": 494,
   "id": "534d1fc0",
   "metadata": {},
   "outputs": [],
   "source": [
    "# text pre-processing\n",
    "import string\n",
    "from nltk.corpus import stopwords"
   ]
  },
  {
   "cell_type": "code",
   "execution_count": 495,
   "id": "dad6a12e",
   "metadata": {},
   "outputs": [
    {
     "name": "stderr",
     "output_type": "stream",
     "text": [
      "[nltk_data] Downloading package stopwords to\n",
      "[nltk_data]     /Users/nainika/nltk_data...\n",
      "[nltk_data]   Package stopwords is already up-to-date!\n"
     ]
    },
    {
     "data": {
      "text/plain": [
       "True"
      ]
     },
     "execution_count": 495,
     "metadata": {},
     "output_type": "execute_result"
    }
   ],
   "source": [
    "import nltk\n",
    "nltk.download('stopwords')"
   ]
  },
  {
   "cell_type": "code",
   "execution_count": 496,
   "id": "e80e64c7",
   "metadata": {},
   "outputs": [],
   "source": [
    "def removePunc(review):\n",
    "        \n",
    "    nopunctuation = [char for char in review if char not in string.punctuation]\n",
    "    \n",
    "    nopunctuation = ''.join(nopunctuation)\n",
    "    \n",
    "    return nopunctuation"
   ]
  },
  {
   "cell_type": "code",
   "execution_count": 497,
   "id": "b92b1dc1",
   "metadata": {},
   "outputs": [],
   "source": [
    "reviews_df['reviews'] = reviews_df['reviews'].apply(removePunc)"
   ]
  },
  {
   "cell_type": "code",
   "execution_count": 498,
   "id": "9148725b",
   "metadata": {},
   "outputs": [
    {
     "data": {
      "text/plain": [
       "'These are tiny packets I bought them thinking they were the regular size and are not My kids love the product but this particular package was outrageously expensive for tiny packages I sent them back Mini Mini is right'"
      ]
     },
     "execution_count": 498,
     "metadata": {},
     "output_type": "execute_result"
    }
   ],
   "source": [
    "reviews_df['reviews'].values[1200]"
   ]
  },
  {
   "cell_type": "code",
   "execution_count": 499,
   "id": "80f54055",
   "metadata": {},
   "outputs": [],
   "source": [
    "#convert to lowercase\n",
    "reviews_df['reviews'] = reviews_df['reviews'].apply(lambda x:x.lower())"
   ]
  },
  {
   "cell_type": "code",
   "execution_count": 500,
   "id": "4e7a6f34",
   "metadata": {},
   "outputs": [
    {
     "data": {
      "text/plain": [
       "'these are tiny packets i bought them thinking they were the regular size and are not my kids love the product but this particular package was outrageously expensive for tiny packages i sent them back mini mini is right'"
      ]
     },
     "execution_count": 500,
     "metadata": {},
     "output_type": "execute_result"
    }
   ],
   "source": [
    "reviews_df['reviews'].values[1200]"
   ]
  },
  {
   "cell_type": "code",
   "execution_count": 501,
   "id": "8d8b8649",
   "metadata": {},
   "outputs": [
    {
     "name": "stdout",
     "output_type": "stream",
     "text": [
      "\n"
     ]
    }
   ],
   "source": [
    "alphanumeric_filter = filter(str.isalnum, reviews_df['reviews'])\n",
    "alphanumeric_string = \"\".join(alphanumeric_filter)\n",
    "print(alphanumeric_string)"
   ]
  },
  {
   "cell_type": "code",
   "execution_count": 502,
   "id": "b90dc45f",
   "metadata": {},
   "outputs": [
    {
     "data": {
      "text/plain": [
       "'these are tiny packets i bought them thinking they were the regular size and are not my kids love the product but this particular package was outrageously expensive for tiny packages i sent them back mini mini is right'"
      ]
     },
     "execution_count": 502,
     "metadata": {},
     "output_type": "execute_result"
    }
   ],
   "source": [
    "reviews_df['reviews'].values[1200]"
   ]
  },
  {
   "cell_type": "code",
   "execution_count": 503,
   "id": "58b1a4fa",
   "metadata": {},
   "outputs": [],
   "source": [
    "#remove urls\n",
    "reviews_df['reviews'] = reviews_df['reviews'].replace(r'http\\S+', '', regex=True).replace(r'www\\S+', '', regex=True)"
   ]
  },
  {
   "cell_type": "code",
   "execution_count": 504,
   "id": "1b43d4eb",
   "metadata": {},
   "outputs": [],
   "source": [
    "#remove stop words\n",
    "stopwords = nltk.corpus.stopwords.words('english')\n",
    "def remStopWords(remWord):\n",
    "    clean_txt = [word for word in remWord.split() if word not in stopwords]\n",
    "    return clean_txt"
   ]
  },
  {
   "cell_type": "code",
   "execution_count": 505,
   "id": "d7cfd6b5",
   "metadata": {},
   "outputs": [],
   "source": [
    "reviews_df['reviews_test'] = reviews_df['reviews'].apply(remStopWords)"
   ]
  },
  {
   "cell_type": "code",
   "execution_count": 506,
   "id": "d237c282",
   "metadata": {},
   "outputs": [
    {
     "data": {
      "text/plain": [
       "['tiny',\n",
       " 'packets',\n",
       " 'bought',\n",
       " 'thinking',\n",
       " 'regular',\n",
       " 'size',\n",
       " 'kids',\n",
       " 'love',\n",
       " 'product',\n",
       " 'particular',\n",
       " 'package',\n",
       " 'outrageously',\n",
       " 'expensive',\n",
       " 'tiny',\n",
       " 'packages',\n",
       " 'sent',\n",
       " 'back',\n",
       " 'mini',\n",
       " 'mini',\n",
       " 'right']"
      ]
     },
     "execution_count": 506,
     "metadata": {},
     "output_type": "execute_result"
    }
   ],
   "source": [
    "reviews_df['reviews_test'].values[1200]"
   ]
  },
  {
   "cell_type": "code",
   "execution_count": 507,
   "id": "90cad82a",
   "metadata": {},
   "outputs": [],
   "source": [
    "#stemming\n",
    "import nltk\n",
    "from nltk.stem.porter import PorterStemmer\n",
    "ps = PorterStemmer()"
   ]
  },
  {
   "cell_type": "code",
   "execution_count": 508,
   "id": "b310f8c0",
   "metadata": {},
   "outputs": [],
   "source": [
    "def stem(text):\n",
    "    li = []\n",
    "    for i in text:\n",
    "        li.append(ps.stem(i))\n",
    "        \n",
    "    return \" \".join(li)"
   ]
  },
  {
   "cell_type": "code",
   "execution_count": 509,
   "id": "9fd14f8b",
   "metadata": {},
   "outputs": [],
   "source": [
    "reviews_df['reviews_test'] = reviews_df['reviews_test'].apply(stem)"
   ]
  },
  {
   "cell_type": "code",
   "execution_count": 510,
   "id": "ab0d3636",
   "metadata": {},
   "outputs": [
    {
     "data": {
      "text/plain": [
       "'tini packet bought think regular size kid love product particular packag outrag expens tini packag sent back mini mini right'"
      ]
     },
     "execution_count": 510,
     "metadata": {},
     "output_type": "execute_result"
    }
   ],
   "source": [
    "reviews_df['reviews_test'].values[1200]"
   ]
  },
  {
   "cell_type": "code",
   "execution_count": 511,
   "id": "16a1f6ff",
   "metadata": {},
   "outputs": [
    {
     "data": {
      "text/plain": [
       "0         bought sever vital can dog food product found ...\n",
       "1         product arriv label jumbo salt peanutsth peanu...\n",
       "2         confect around centuri light pillowi citru gel...\n",
       "3         look secret ingredi robitussin believ found go...\n",
       "4         great taffi great price wide assort yummi taff...\n",
       "                                ...                        \n",
       "568449    great sesam chickenthi good better restur eate...\n",
       "568450    im disappoint flavor chocol note especi weak m...\n",
       "568451    star small give 1015 one train session tri tra...\n",
       "568452    best treat train reward dog good groom lower c...\n",
       "568453    satisfi product advertis use cereal raw vinega...\n",
       "Name: reviews_test, Length: 393631, dtype: object"
      ]
     },
     "execution_count": 511,
     "metadata": {},
     "output_type": "execute_result"
    }
   ],
   "source": [
    "reviews_df['reviews_test']"
   ]
  },
  {
   "cell_type": "code",
   "execution_count": 512,
   "id": "685aabae",
   "metadata": {},
   "outputs": [
    {
     "name": "stdout",
     "output_type": "stream",
     "text": [
      "Requirement already satisfied: sklearn in /Users/nainika/opt/anaconda3/lib/python3.8/site-packages (0.0)\n",
      "Requirement already satisfied: scikit-learn in /Users/nainika/opt/anaconda3/lib/python3.8/site-packages (from sklearn) (0.24.1)\n",
      "Requirement already satisfied: joblib>=0.11 in /Users/nainika/opt/anaconda3/lib/python3.8/site-packages (from scikit-learn->sklearn) (1.0.1)\n",
      "Requirement already satisfied: scipy>=0.19.1 in /Users/nainika/opt/anaconda3/lib/python3.8/site-packages (from scikit-learn->sklearn) (1.6.2)\n",
      "Requirement already satisfied: threadpoolctl>=2.0.0 in /Users/nainika/opt/anaconda3/lib/python3.8/site-packages (from scikit-learn->sklearn) (2.1.0)\n",
      "Requirement already satisfied: numpy>=1.13.3 in /Users/nainika/opt/anaconda3/lib/python3.8/site-packages (from scikit-learn->sklearn) (1.20.1)\n",
      "Note: you may need to restart the kernel to use updated packages.\n"
     ]
    }
   ],
   "source": [
    "pip install sklearn"
   ]
  },
  {
   "cell_type": "code",
   "execution_count": 513,
   "id": "744e97ae",
   "metadata": {},
   "outputs": [],
   "source": [
    "#train test split\n",
    "\n",
    "X = reviews_df.reviews_test\n",
    "y = reviews_df.target\n",
    "\n",
    "X_train, X_test, y_train, y_test = train_test_split(\n",
    "    \n",
    "    X, y, test_size=0.30, random_state=1, stratify=y)"
   ]
  },
  {
   "cell_type": "code",
   "execution_count": 514,
   "id": "ec4e5ea2",
   "metadata": {},
   "outputs": [
    {
     "data": {
      "text/plain": [
       "((275541,), (118090,))"
      ]
     },
     "execution_count": 514,
     "metadata": {},
     "output_type": "execute_result"
    }
   ],
   "source": [
    "X_train.shape, X_test.shape"
   ]
  },
  {
   "cell_type": "code",
   "execution_count": 515,
   "id": "3b80ba3e",
   "metadata": {},
   "outputs": [],
   "source": [
    "# tranform tfidf \n",
    "\n",
    "tfidf_v = TfidfVectorizer(max_features=10000)\n",
    "tfidf_v.fit(X_train)\n",
    "\n",
    "# transform\n",
    "tfidf_X_train = tfidf_v.transform(X_train)\n",
    "tfidf_X_test = tfidf_v.transform(X_test)"
   ]
  },
  {
   "cell_type": "code",
   "execution_count": null,
   "id": "a5fb287c",
   "metadata": {},
   "outputs": [],
   "source": []
  },
  {
   "cell_type": "code",
   "execution_count": 524,
   "id": "846f78c1",
   "metadata": {},
   "outputs": [
    {
     "data": {
      "text/plain": [
       "LogisticRegression(max_iter=500)"
      ]
     },
     "execution_count": 524,
     "metadata": {},
     "output_type": "execute_result"
    }
   ],
   "source": [
    "# logistic regression\n",
    "model = LogisticRegression( max_iter=500)\n",
    "model.fit(tfidf_X_train, y_train)"
   ]
  },
  {
   "cell_type": "code",
   "execution_count": 525,
   "id": "8d7d3faa",
   "metadata": {},
   "outputs": [],
   "source": [
    "# predictions\n",
    "y_pred_train = model.predict(tfidf_X_train)\n",
    "y_pred_test = model.predict(tfidf_X_test)"
   ]
  },
  {
   "cell_type": "code",
   "execution_count": 530,
   "id": "9a2805a9",
   "metadata": {},
   "outputs": [
    {
     "name": "stdout",
     "output_type": "stream",
     "text": [
      "Train accuracy score : 0.9283446020737386\n",
      "Test accuracy score : 0.9222796172410873\n"
     ]
    }
   ],
   "source": [
    "#check accuracy score \n",
    "print(f\"Train accuracy score : {accuracy_score(y_train, y_pred_train)}\")\n",
    "print(f\"Test accuracy score : {accuracy_score(y_test, y_pred_test)}\")"
   ]
  }
 ],
 "metadata": {
  "kernelspec": {
   "display_name": "Python 3",
   "language": "python",
   "name": "python3"
  },
  "language_info": {
   "codemirror_mode": {
    "name": "ipython",
    "version": 3
   },
   "file_extension": ".py",
   "mimetype": "text/x-python",
   "name": "python",
   "nbconvert_exporter": "python",
   "pygments_lexer": "ipython3",
   "version": "3.8.8"
  }
 },
 "nbformat": 4,
 "nbformat_minor": 5
}
